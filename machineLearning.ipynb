{
 "cells": [
  {
   "cell_type": "code",
   "execution_count": 10,
   "metadata": {},
   "outputs": [
    {
     "name": "stdout",
     "output_type": "stream",
     "text": [
      "{'n_estimators': 50}\n"
     ]
    }
   ],
   "source": [
    "from sklearn.datasets import load_iris\n",
    "from sklearn.model_selection import train_test_split, GridSearchCV\n",
    "from sklearn.ensemble import RandomForestClassifier\n",
    "\n",
    "# Cargar dataset\n",
    "iris = load_iris()\n",
    "X, y = iris.data, iris.target\n",
    "\n",
    "# Dividir en entrenamiento y prueba\n",
    "X_train, X_test, y_train, y_test = train_test_split(X, y, test_size=0.2, random_state=42)\n",
    "\n",
    "# Definir hiperparámetros a probar\n",
    "param_grid = {'n_estimators': [50, 100, 200, 300]}\n",
    "\n",
    "# Crear búsqueda de mejor hiperparámetro\n",
    "grid = GridSearchCV(RandomForestClassifier(random_state=40), param_grid, cv=5)\n",
    "grid.fit(X_train, y_train)  # ✅ Ahora X_train y y_train están definidos\n",
    "\n",
    "# Imprimir el mejor valor de n_estimators\n",
    "print(grid.best_params_)"
   ]
  },
  {
   "cell_type": "code",
   "execution_count": 12,
   "metadata": {},
   "outputs": [
    {
     "name": "stdout",
     "output_type": "stream",
     "text": [
      "Precisión del modelo: 1.00\n"
     ]
    }
   ],
   "source": [
    "from sklearn.datasets import load_iris\n",
    "from sklearn.model_selection import train_test_split\n",
    "from sklearn.ensemble import RandomForestClassifier\n",
    "from sklearn.metrics import accuracy_score\n",
    "\n",
    "# Cargar dataset\n",
    "iris = load_iris()\n",
    "X, y = iris.data, iris.target\n",
    "\n",
    "# Dividir en entrenamiento y prueba\n",
    "X_train, X_test, y_train, y_test = train_test_split(X, y, test_size=0.2, random_state=40)\n",
    "\n",
    "# Entrenar modelo\n",
    "model = RandomForestClassifier(n_estimators=50)\n",
    "model.fit(X_train, y_train)\n",
    "\n",
    "# Evaluar modelo\n",
    "y_pred = model.predict(X_test)\n",
    "accuracy = accuracy_score(y_test, y_pred)\n",
    "print(f\"Precisión del modelo: {accuracy:.2f}\")\n"
   ]
  },
  {
   "cell_type": "code",
   "execution_count": 13,
   "metadata": {},
   "outputs": [
    {
     "name": "stdout",
     "output_type": "stream",
     "text": [
      "Predicciones del modelo:\n",
      "[0 1 2 2 1 2 1 1 1 0 1 0 0 2 1 2 2 2 1 1 2 2 1 0 1 0 0 2 0 1]\n",
      "Especies reales del conjunto de prueba:\n",
      "[0 1 2 2 1 2 1 1 1 0 1 0 0 2 1 2 2 2 1 1 2 2 1 0 1 0 0 2 0 1]\n"
     ]
    }
   ],
   "source": [
    "print(\"Predicciones del modelo:\")\n",
    "print(y_pred)\n",
    "\n",
    "# Mostrar las especies reales del conjunto de prueba\n",
    "print(\"Especies reales del conjunto de prueba:\")\n",
    "print(y_test)"
   ]
  },
  {
   "cell_type": "code",
   "execution_count": 14,
   "metadata": {},
   "outputs": [
    {
     "name": "stdout",
     "output_type": "stream",
     "text": [
      "Predicciones del modelo (especies):\n",
      "['setosa', 'versicolor', 'virginica', 'virginica', 'versicolor', 'virginica', 'versicolor', 'versicolor', 'versicolor', 'setosa', 'versicolor', 'setosa', 'setosa', 'virginica', 'versicolor', 'virginica', 'virginica', 'virginica', 'versicolor', 'versicolor', 'virginica', 'virginica', 'versicolor', 'setosa', 'versicolor', 'setosa', 'setosa', 'virginica', 'setosa', 'versicolor']\n",
      "\n",
      "Especies reales del conjunto de prueba:\n",
      "['setosa', 'versicolor', 'virginica', 'virginica', 'versicolor', 'virginica', 'versicolor', 'versicolor', 'versicolor', 'setosa', 'versicolor', 'setosa', 'setosa', 'virginica', 'versicolor', 'virginica', 'virginica', 'virginica', 'versicolor', 'versicolor', 'virginica', 'virginica', 'versicolor', 'setosa', 'versicolor', 'setosa', 'setosa', 'virginica', 'setosa', 'versicolor']\n",
      "\n",
      "Cantidad de predicciones por especie:\n",
      "versicolor    12\n",
      "virginica     10\n",
      "setosa         8\n",
      "dtype: int64\n",
      "\n",
      "Cantidad de especies reales en el conjunto de prueba:\n",
      "versicolor    12\n",
      "virginica     10\n",
      "setosa         8\n",
      "dtype: int64\n"
     ]
    }
   ],
   "source": [
    "import pandas as pd\n",
    "\n",
    "species_names = iris.target_names  # Nombres de las especies\n",
    "\n",
    "# Imprimir predicciones y resultados reales\n",
    "print(\"Predicciones del modelo (especies):\")\n",
    "print([str(species_names[i]) for i in y_pred])\n",
    "\n",
    "print(\"\\nEspecies reales del conjunto de prueba:\")\n",
    "print([str(species_names[i]) for i in y_test])\n",
    "\n",
    "# Contar cuántas veces se predijo cada especie\n",
    "predicted_counts = pd.Series([str(species_names[i]) for i in y_pred]).value_counts()\n",
    "real_counts = pd.Series([str(species_names[i]) for i in y_test]).value_counts()\n",
    "\n",
    "print(\"\\nCantidad de predicciones por especie:\")\n",
    "print(predicted_counts)\n",
    "\n",
    "print(\"\\nCantidad de especies reales en el conjunto de prueba:\")\n",
    "print(real_counts)"
   ]
  },
  {
   "cell_type": "code",
   "execution_count": null,
   "metadata": {},
   "outputs": [],
   "source": []
  }
 ],
 "metadata": {
  "kernelspec": {
   "display_name": "Python 3",
   "language": "python",
   "name": "python3"
  },
  "language_info": {
   "codemirror_mode": {
    "name": "ipython",
    "version": 3
   },
   "file_extension": ".py",
   "mimetype": "text/x-python",
   "name": "python",
   "nbconvert_exporter": "python",
   "pygments_lexer": "ipython3",
   "version": "3.11.0"
  }
 },
 "nbformat": 4,
 "nbformat_minor": 2
}
