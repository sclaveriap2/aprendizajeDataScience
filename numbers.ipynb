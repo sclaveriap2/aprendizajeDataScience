{
 "cells": [
  {
   "cell_type": "code",
   "execution_count": 18,
   "metadata": {},
   "outputs": [
    {
     "name": "stdout",
     "output_type": "stream",
     "text": [
      "Fitting 3 folds for each of 20 candidates, totalling 60 fits\n",
      "Mejores hiperparámetros encontrados: {'max_depth': 30, 'max_features': 'sqrt', 'min_samples_leaf': 1, 'min_samples_split': 2, 'n_estimators': 216}\n"
     ]
    }
   ],
   "source": [
    "from sklearn.datasets import fetch_openml\n",
    "from sklearn.model_selection import train_test_split, RandomizedSearchCV\n",
    "from sklearn.ensemble import RandomForestClassifier\n",
    "from scipy.stats import randint\n",
    "\n",
    "# Cargar dataset\n",
    "mnist = fetch_openml('mnist_784', version=1, as_frame=False)\n",
    "X, y = mnist.data, mnist.target\n",
    "\n",
    "# Convertir etiquetas a enteros (por defecto están como strings)\n",
    "y = y.astype(int)\n",
    "\n",
    "# Dividir en entrenamiento y prueba\n",
    "X_train, X_test, y_train, y_test = train_test_split(X, y, test_size=0.2, random_state=42)\n",
    "\n",
    "# Definir hiperparámetros a probar\n",
    "param_dist = {\n",
    "    'n_estimators': randint(50, 300),     # Número de árboles (aleatorio entre 50 y 300)\n",
    "    'max_depth': [10, 20, 30, None],      # Profundidad del árbol\n",
    "    'min_samples_split': randint(2, 10),  # Min muestras para dividir\n",
    "    'min_samples_leaf': randint(1, 4),    # Min muestras en hoja\n",
    "    'max_features': ['sqrt', 'log2']      # Cantidad de features evaluadas\n",
    "}\n",
    "\n",
    "# Crear búsqueda de mejor hiperparámetro\n",
    "random_search = RandomizedSearchCV(RandomForestClassifier(random_state=40), param_distributions=param_dist, \n",
    "                                   n_iter=20, cv=3, n_jobs=-1, verbose=2, random_state=42) \n",
    "random_search.fit(X_train, y_train) # ✅ Ahora X_train y y_train están definidos\n",
    "\n",
    "# Imprimir el mejor valor de n_estimators\n",
    "print(f\"Mejores hiperparámetros encontrados: {random_search.best_params_}\")"
   ]
  },
  {
   "cell_type": "code",
   "execution_count": null,
   "metadata": {},
   "outputs": [],
   "source": [
    "from sklearn.datasets import fetch_openml\n",
    "from sklearn.ensemble import RandomForestClassifier\n",
    "from sklearn.metrics import accuracy_score\n",
    "\n",
    "# Cargar dataset\n",
    "mnist = fetch_openml('mnist_784', version=1, as_frame=False)\n",
    "X, y = mnist.data, mnist.target\n",
    "\n",
    "# Convertir etiquetas a enteros (por defecto están como strings)\n",
    "y = y.astype(int)\n",
    "\n",
    "# Dividir en entrenamiento y prueba\n",
    "X_train, X_test, y_train, y_test = train_test_split(X, y, test_size=0.2, random_state=40)\n",
    "\n",
    "# Entrenar modelo\n",
    "model = RandomForestClassifier(n_estimators=216,\n",
    "                               max_depth= 30,\n",
    "                               max_features='sqrt',\n",
    "                               min_samples_leaf= 1,\n",
    "                               min_samples_split= 2,)\n",
    "model.fit(X_train, y_train)\n",
    "\n",
    "# Evaluar modelo\n",
    "y_pred = model.predict(X_test)\n",
    "accuracy = accuracy_score(y_test, y_pred)\n",
    "print(f\"Precisión del modelo: {accuracy:.2f}\")"
   ]
  }
 ],
 "metadata": {
  "kernelspec": {
   "display_name": "Python 3",
   "language": "python",
   "name": "python3"
  },
  "language_info": {
   "codemirror_mode": {
    "name": "ipython",
    "version": 3
   },
   "file_extension": ".py",
   "mimetype": "text/x-python",
   "name": "python",
   "nbconvert_exporter": "python",
   "pygments_lexer": "ipython3",
   "version": "3.11.0"
  }
 },
 "nbformat": 4,
 "nbformat_minor": 2
}
