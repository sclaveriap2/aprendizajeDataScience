{
 "cells": [
  {
   "cell_type": "code",
   "execution_count": 5,
   "metadata": {},
   "outputs": [
    {
     "name": "stdout",
     "output_type": "stream",
     "text": [
      "                                               Title\n",
      "0  1 \\r\\n    \\n\\r\\n        Propuesta de compra y ...\n",
      "1  Trump vaticina el fin de la guerra en Ucrania:...\n",
      "2  Artista invitada, animadora y reina: La vasta ...\n",
      "3  Miguel \"Negro\" Piñera internado en clínica en ...\n",
      "4  Telefónica anuncia la venta de su filial argen...\n"
     ]
    }
   ],
   "source": [
    "import requests\n",
    "from bs4 import BeautifulSoup\n",
    "import pandas as pd\n",
    "import re  # Importamos re para expresiones regulares\n",
    "\n",
    "# URL de Emol\n",
    "url = \"https://www.emol.com/\"\n",
    "\n",
    "# Obtener el contenido de la página\n",
    "response = requests.get(url)\n",
    "soup = BeautifulSoup(response.text, \"html.parser\")\n",
    "\n",
    "# Buscar elementos con clase que comience con \"col_center_noticia\"\n",
    "titles = [title.text.strip() for title in soup.find_all(class_=re.compile(\"^col_center_noticia\"))]\n",
    "\n",
    "# Guardar en un DataFrame\n",
    "df = pd.DataFrame({\"Title\": titles})\n",
    "\n",
    "# Mostrar primeros resultados\n",
    "print(df.head())\n",
    "\n",
    "# Guardar en CSV\n",
    "df.to_csv(\"news.csv\", index=False)\n",
    "\n"
   ]
  },
  {
   "cell_type": "code",
   "execution_count": null,
   "metadata": {},
   "outputs": [],
   "source": []
  }
 ],
 "metadata": {
  "kernelspec": {
   "display_name": "Python 3",
   "language": "python",
   "name": "python3"
  },
  "language_info": {
   "codemirror_mode": {
    "name": "ipython",
    "version": 3
   },
   "file_extension": ".py",
   "mimetype": "text/x-python",
   "name": "python",
   "nbconvert_exporter": "python",
   "pygments_lexer": "ipython3",
   "version": "3.10.12"
  }
 },
 "nbformat": 4,
 "nbformat_minor": 2
}
